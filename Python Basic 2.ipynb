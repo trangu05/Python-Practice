{
 "cells": [
  {
   "cell_type": "code",
   "execution_count": 26,
   "metadata": {},
   "outputs": [
    {
     "name": "stdout",
     "output_type": "stream",
     "text": [
      "Enter your numbers \n",
      "1,2,5,6,0\n",
      "[1, 2, 5, 6, 0]\n"
     ]
    }
   ],
   "source": [
    " #Write a program which accepts a sequence of comma-separated numbers from console  and generate a list. \n",
    "    \n",
    "numbers = input(\"Enter your numbers \\n\")\n",
    "list = [int(i) for i in str.split(numbers, sep = ',')]\n",
    "print(list)"
   ]
  },
  {
   "cell_type": "code",
   "execution_count": 31,
   "metadata": {},
   "outputs": [
    {
     "name": "stdout",
     "output_type": "stream",
     "text": [
      "************\n"
     ]
    }
   ],
   "source": [
    "print('*'*12)"
   ]
  },
  {
   "cell_type": "code",
   "execution_count": 34,
   "metadata": {
    "scrolled": true
   },
   "outputs": [
    {
     "name": "stdout",
     "output_type": "stream",
     "text": [
      "\n",
      "* \n",
      "* * \n",
      "* * * \n",
      "* * * * \n",
      "* * * * * \n",
      "* * * * \n",
      "* * * \n",
      "* * \n",
      "* \n"
     ]
    }
   ],
   "source": [
    "#Create the below pattern using nested for loop in Python. \n",
    "#* \n",
    "#* * \n",
    "#* * * \n",
    "#* * * * \n",
    "#* * * * * \n",
    "#* * * * \n",
    "#* * * \n",
    "#* * \n",
    "#* \n",
    "\n",
    "for i in range(10):\n",
    "    if i <= 5:\n",
    "        print('* '*i)\n",
    "    else:\n",
    "        print('* ' * (5 - abs(i-5)))\n",
    "\n",
    "\n"
   ]
  },
  {
   "cell_type": "code",
   "execution_count": 37,
   "metadata": {},
   "outputs": [
    {
     "name": "stdout",
     "output_type": "stream",
     "text": [
      "Enter a word \n",
      "dfsfds\n",
      "sdfsfd\n"
     ]
    }
   ],
   "source": [
    "#. Write a Python program to reverse a word after accepting the input from the user. \n",
    "\n",
    "word = input('Enter a word \\n')\n",
    "print(word[::-1])"
   ]
  }
 ],
 "metadata": {
  "kernelspec": {
   "display_name": "Python 3",
   "language": "python",
   "name": "python3"
  },
  "language_info": {
   "codemirror_mode": {
    "name": "ipython",
    "version": 3
   },
   "file_extension": ".py",
   "mimetype": "text/x-python",
   "name": "python",
   "nbconvert_exporter": "python",
   "pygments_lexer": "ipython3",
   "version": "3.8.5"
  }
 },
 "nbformat": 4,
 "nbformat_minor": 4
}
